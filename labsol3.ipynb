{
 "cells": [
  {
   "cell_type": "code",
   "execution_count": 17,
   "metadata": {},
   "outputs": [],
   "source": [
    "import pickle\n",
    "import sys\n",
    "import getopt\n",
    "import numpy as np\n",
    "import scipy.io as io\n",
    "import matplotlib\n",
    "import matplotlib.pyplot as plt\n",
    "from matplotlib import cm\n",
    "from mpl_toolkits.mplot3d import axes3d, Axes3D\n",
    "from pdffuns import norm2D, knn2D\n",
    "\n",
    "\n",
    "pfile='lab3.p'\n",
    "with open(pfile, \"rb\") as fp:\n",
    "     X=pickle.load(fp)\n",
    "     \n",
    "X\n",
    "\n",
    "\n",
    "def plot_3d(P,X1,X2):\n",
    "    fig = plt.figure()\n",
    "    colors = ['r','b','c','g']\n",
    "    ax = fig.gca(projection='3d')\n",
    "    pmax = np.array([0.3]*(len(P)+1))\n",
    "    for i,p in enumerate(P):\n",
    "        clean_p = p.copy()\n",
    "        clean_p[clean_p<p.max()/5000] = np.nan \n",
    "        ax.plot_surface(X1,X2,clean_p,color=colors[i])\n",
    "        pmax[i] = p.max()\n",
    "    \n",
    "    ax.set(zlim=(0,pmax.max()*1.2), xlabel=\"x1\", ylabel=\"x2\", zlabel=\"p\")\n",
    "    \n",
    "    plt.show()"
   ]
  },
  {
   "cell_type": "code",
   "execution_count": 10,
   "metadata": {},
   "outputs": [
    {
     "name": "stdout",
     "output_type": "stream",
     "text": [
      "[[2.8 2.  2.8 3. ]\n",
      " [4.8 5.8 6.9 5.8]]\n",
      "[[ 1.7  2.9  3.8]\n",
      " [-2.6  0.2 -2.9]]\n",
      "[[2.65 ]\n",
      " [5.825]]\n",
      "[[ 2.8       ]\n",
      " [-1.76666667]]\n",
      "[[0.19666667 0.005     ]\n",
      " [0.005      0.73583333]]\n",
      "[[ 1.11       -0.01      ]\n",
      " [-0.01        2.92333333]]\n",
      "4\n",
      "3\n"
     ]
    }
   ],
   "source": [
    "X1 = X[0]\n",
    "X2 = X[1]\n",
    "my1 = X1.mean(axis=1).reshape(-1,1)\n",
    "my2 = X2.mean(axis=1).reshape(-1,1)\n",
    "Sgm1 = np.cov(X1)\n",
    "Sgm2 = np.cov(X2)\n",
    "n1 = X1.shape[1]\n",
    "n2 = X2.shape[1]\n",
    "print(X1)\n",
    "print(X2)\n",
    "print(my1)\n",
    "print(my2)\n",
    "print(Sgm1)\n",
    "print(Sgm2)\n",
    "print(n1)\n",
    "print(n2)"
   ]
  },
  {
   "cell_type": "code",
   "execution_count": 18,
   "metadata": {},
   "outputs": [
    {
     "data": {
      "text/plain": [
       "<Figure size 640x480 with 0 Axes>"
      ]
     },
     "metadata": {},
     "output_type": "display_data"
    }
   ],
   "source": [
    "Pw = [  n1/(n1+n2),\n",
    "        n2/(n1+n2)]\n",
    "\n",
    "x1 = np.arange(-9,11.2,0.1).reshape(-1,1)\n",
    "x2 = np.arange(-9,11.2,0.1).reshape(-1,1)\n",
    "\n",
    "p1,X11,X21 = norm2D(my1,Sgm1,x1,x2)\n",
    "p2,X12,X22 = norm2D(my1,Sgm2,x1,x2)\n",
    "# a) and b)\n",
    "plot_3d([p1,p2],X11,X21)"
   ]
  },
  {
   "cell_type": "code",
   "execution_count": 3,
   "metadata": {},
   "outputs": [
    {
     "name": "stdout",
     "output_type": "stream",
     "text": [
      "0\n",
      "2.8\n",
      "0.1499999999999999\n",
      "1\n",
      "2.0\n",
      "-0.6499999999999999\n",
      "2\n",
      "2.8\n",
      "0.1499999999999999\n",
      "3\n",
      "3.0\n",
      "0.3500000000000001\n",
      "[1.0359174677550333, 0.6504805915628843, 1.0854146673046206, 0.3508917211904551]\n",
      "[0.3508917211904551, 0.6504805915628843, 1.0359174677550333, 1.0854146673046206]\n",
      "0.6504805915628843\n"
     ]
    },
    {
     "data": {
      "text/plain": [
       "0.37614166757316486"
      ]
     },
     "execution_count": 3,
     "metadata": {},
     "output_type": "execute_result"
    }
   ],
   "source": [
    "knn2D(0.5, 2, my1, X1)"
   ]
  },
  {
   "cell_type": "code",
   "execution_count": 4,
   "metadata": {},
   "outputs": [
    {
     "ename": "SyntaxError",
     "evalue": "incomplete input (416649558.py, line 51)",
     "output_type": "error",
     "traceback": [
      "\u001b[0;36m  Cell \u001b[0;32mIn[4], line 51\u001b[0;36m\u001b[0m\n\u001b[0;31m    # - plot discriminant functions\u001b[0m\n\u001b[0m                                   ^\u001b[0m\n\u001b[0;31mSyntaxError\u001b[0m\u001b[0;31m:\u001b[0m incomplete input\n"
     ]
    }
   ],
   "source": [
    "def labsol3(met='ML', discr='pxw', prm = []):\n",
    "    # Initialise values:\n",
    "    # - axes, x1 and x2\n",
    "\n",
    "    # Load data from pickle files\n",
    "    # - load into variable X, X[k], k = 0,...,M-1\n",
    "    # - determine number of classes, M, from X\n",
    "    # - determine feature dimension, l, from X[0]\n",
    "    # Estimate prior probabilities, Pwi[k].\n",
    "    # - iterate over classes, k = 0,...,M-1\n",
    "    # - determine number of feature vectors, N[k]\n",
    "    # - determine Pwi\n",
    "\n",
    "    # Initialise method specific parameters\n",
    "    # - on condition of met\n",
    "    # - Maximum likelihood: my, Sgm (empty)\n",
    "    # - Parzen window: h1 from prm\n",
    "    # - kn nearest neighbor: knn from prm\n",
    "\n",
    "    # - parameters, my[i] and Sgm[i], i = 0,...,M-1\n",
    "    # - prior probabilities, Pw[i], i = 0,...,M-1\n",
    "    # Determine class specific probability density functions, pxw[i], i = 0,...,M-1\n",
    "    # - initialise pxw as empty list\n",
    "    # - initialise total density function, p as zero\n",
    "    # - iterate over classes, k = 0,...,M-1\n",
    "    # - on condition of met: Maximum likelihood:\n",
    "    # - estimate parameters my[k], Sgm[k]\n",
    "    # - determine pxw[k] by using norm2D\n",
    "    # - on condition of met: Parzen window:\n",
    "    # - initialise pxw[k]\n",
    "    # - determine hn\n",
    "    # - iterate over samples in X[k], i = 1,...,N[k]\n",
    "    # - let x be feature vector number i in X[k]\n",
    "    # - use norm2D to determine pN\n",
    "    # - update pxw[k] by adding pN\n",
    "    # - update pxw by dividing by N[k]\n",
    "    # - on condition of met: kn-nearest neighbor:\n",
    "    # - use knn2D to determine pxw[k] from X[k]\n",
    "    # - update p\n",
    "\n",
    "    # Determine discriminant functions, g[k], k = 0,...,M-1\n",
    "    \n",
    "    # - initialise g as empty list\n",
    "    # - iterate over classes, k = 0,...,M-1\n",
    "    # - on condition of discr determine selected discriminant function\n",
    "    # - Scaled pdfs\n",
    "    # - Posterior probability\n",
    "    # - pdfs (not really discriminant functions)\n",
    "\n",
    "    # Plotting\n",
    "    # - plot discriminant functions"
   ]
  }
 ],
 "metadata": {
  "kernelspec": {
   "display_name": "Python 3",
   "language": "python",
   "name": "python3"
  },
  "language_info": {
   "codemirror_mode": {
    "name": "ipython",
    "version": 3
   },
   "file_extension": ".py",
   "mimetype": "text/x-python",
   "name": "python",
   "nbconvert_exporter": "python",
   "pygments_lexer": "ipython3",
   "version": "3.10.4"
  },
  "orig_nbformat": 4,
  "vscode": {
   "interpreter": {
    "hash": "3ad933181bd8a04b432d3370b9dc3b0662ad032c4dfaa4e4f1596c548f763858"
   }
  }
 },
 "nbformat": 4,
 "nbformat_minor": 2
}
